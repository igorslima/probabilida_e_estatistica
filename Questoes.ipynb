{
  "nbformat": 4,
  "nbformat_minor": 0,
  "metadata": {
    "colab": {
      "name": "Scripts Python3",
      "version": "0.3.2",
      "views": {},
      "default_view": {},
      "provenance": []
    }
  },
  "cells": [
    {
      "metadata": {
        "id": "EP3zocYnn2Gm",
        "colab_type": "code",
        "colab": {
          "autoexec": {
            "startup": false,
            "wait_interval": 0
          }
        }
      },
      "source": [
        "import pandas as pd\n",
        "import scipy\n",
        "import numpy as np\n",
        "from scipy import stats\n",
        "%matplotlib inline  \n",
        "import matplotlib.pyplot as plt"
      ],
      "cell_type": "code",
      "execution_count": 0,
      "outputs": []
    },
    {
      "metadata": {
        "id": "zYOwJypKoWSe",
        "colab_type": "code",
        "colab": {
          "autoexec": {
            "startup": false,
            "wait_interval": 0
          }
        }
      },
      "source": [
        "dados = pd.DataFrame()"
      ],
      "cell_type": "code",
      "execution_count": 0,
      "outputs": []
    },
    {
      "metadata": {
        "id": "5PoD4XRyoYjc",
        "colab_type": "code",
        "colab": {
          "autoexec": {
            "startup": false,
            "wait_interval": 0
          }
        }
      },
      "source": [
        "dados['A1'] = [44,43,48,52,71,44,57,34,70,54,70,65,36,47,63,35,50,55,33,81,63,78,63,65,45,78,60,52,37,55,69,84,54,61,47,57,87,50,85,27,84,37,33,44,63,58]\n",
        "dados['A2'] = [33.2,33.8,40.6,39.2,45.5,37.5,44.2,31.9,45.6,45.9,43.7,32.1,36.9,38.9,47.6,33,38.9,35.7,31.2,53.8,42.5,53.3,47, 44.9,35.6, 50.5,42.3,43.8,33.2,36,47.6,50,43.8,45,42.2,53,51.6,31.9,56.1,31.5,50,32.4,36.1,35.3,39.3,43.8]\n",
        "dados['A3'] = [5,4,3,7,11,9,6,3,12,7,14,12,10,10,14,9,7,18,6,31,13,20,19,10,4,16,9,6,6,21,15,17,7,13,8,28,23,22,23,7,16,2,6,3,8,13]\n",
        "dados['A4'] = [30,41,38,48,53,65,73,32,56,57,43,33,48,69,54,47,68,47,27,79,59,97,95,81,26,76,37,46,40,76,70,66,63,59,55,149,77,43,74,56,63,41,59,32,40,57]\n",
        "dados['A5'] = [41.2,31.7,39.4,57.5,74.8,59.8,54.3,47.9,77.2,56.6,80.9,34.3,53.1,55.4,57.8,62.8,67.3,56.7,37.6,129.9,70.3,104.2,83.6,66,52.3,86.9,66.6,40.1,55.7,58.1,74.3,98.1,40.7,66.7,48,122.5,92.1,76,97.5,33.8,90.5,29.7,28,51.6,55.7,55.5]"
      ],
      "cell_type": "code",
      "execution_count": 0,
      "outputs": []
    },
    {
      "metadata": {
        "id": "Wg17RlmhTT6H",
        "colab_type": "text"
      },
      "source": [
        "** Os gráficos de dispersão a seguir servem para auxiliar na questão 1**"
      ],
      "cell_type": "markdown"
    },
    {
      "metadata": {
        "id": "EEkKo4EXWcjU",
        "colab_type": "code",
        "colab": {
          "autoexec": {
            "startup": false,
            "wait_interval": 0
          },
          "output_extras": [
            {
              "item_id": 1
            },
            {
              "item_id": 2
            }
          ],
          "base_uri": "https://localhost:8080/",
          "height": 311
        },
        "outputId": "2f478185-c143-472e-b750-75e3d14f9544",
        "executionInfo": {
          "status": "ok",
          "timestamp": 1513642183297,
          "user_tz": 180,
          "elapsed": 929,
          "user": {
            "displayName": "Igor Lima",
            "photoUrl": "https://lh3.googleusercontent.com/a/default-user=s128",
            "userId": "100771276283403147491"
          }
        }
      },
      "source": [
        "plt.scatter(x=dados['A1'],y=dados['A2'])\n",
        "plt.title(\"Grafico de dispersao de A1 e A2\")\n",
        "plt.xlabel(\"A1\")\n",
        "plt.ylabel(\"A2\")\n",
        "# A"
      ],
      "cell_type": "code",
      "execution_count": 11,
      "outputs": [
        {
          "output_type": "execute_result",
          "data": {
            "text/plain": [
              "Text(0,0.5,u'A2')"
            ]
          },
          "metadata": {
            "tags": []
          },
          "execution_count": 11
        },
        {
          "output_type": "display_data",
          "data": {
            "image/png": "[encoded data removed]",
            "text/plain": [
              "<matplotlib.figure.Figure at 0x7f21608ca9d0>"
            ]
          },
          "metadata": {
            "tags": []
          }
        }
      ]
    },
    {
      "metadata": {
        "id": "k5rcLAgPJ9zZ",
        "colab_type": "code",
        "colab": {
          "autoexec": {
            "startup": false,
            "wait_interval": 0
          },
          "output_extras": [
            {
              "item_id": 1
            },
            {
              "item_id": 2
            }
          ],
          "base_uri": "https://localhost:8080/",
          "height": 311
        },
        "outputId": "73c65974-c813-4d4b-fbe0-95595bc04ea9",
        "executionInfo": {
          "status": "ok",
          "timestamp": 1513643042793,
          "user_tz": 180,
          "elapsed": 1284,
          "user": {
            "displayName": "Igor Lima",
            "photoUrl": "https://lh3.googleusercontent.com/a/default-user=s128",
            "userId": "100771276283403147491"
          }
        }
      },
      "source": [
        "plt.scatter(x=dados['A1'],y=dados['A3'])\n",
        "plt.title(\"Grafico de dispersao de A1 e A3\")\n",
        "plt.xlabel(\"A1\")\n",
        "plt.ylabel(\"A3\")\n",
        "# B"
      ],
      "cell_type": "code",
      "execution_count": 13,
      "outputs": [
        {
          "output_type": "execute_result",
          "data": {
            "text/plain": [
              "Text(0,0.5,u'A3')"
            ]
          },
          "metadata": {
            "tags": []
          },
          "execution_count": 13
        },
        {
          "output_type": "display_data",
          "data": {
            "image/png": "[encoded data removed]",
            "text/plain": [
              "<matplotlib.figure.Figure at 0x7f21607227d0>"
            ]
          },
          "metadata": {
            "tags": []
          }
        }
      ]
    },
    {
      "metadata": {
        "id": "D-chXd1iJ--D",
        "colab_type": "code",
        "colab": {
          "autoexec": {
            "startup": false,
            "wait_interval": 0
          },
          "output_extras": [
            {
              "item_id": 1
            },
            {
              "item_id": 2
            }
          ],
          "base_uri": "https://localhost:8080/",
          "height": 311
        },
        "outputId": "98435d29-2264-446a-f5c8-eea1abf3683b",
        "executionInfo": {
          "status": "ok",
          "timestamp": 1513643061999,
          "user_tz": 180,
          "elapsed": 986,
          "user": {
            "displayName": "Igor Lima",
            "photoUrl": "https://lh3.googleusercontent.com/a/default-user=s128",
            "userId": "100771276283403147491"
          }
        }
      },
      "source": [
        "plt.scatter(x=dados['A1'],y=dados['A4'])\n",
        "plt.title(\"Grafico de dispersao de A1 e A4\")\n",
        "plt.xlabel(\"A1\")\n",
        "plt.ylabel(\"A4\")\n",
        "# C"
      ],
      "cell_type": "code",
      "execution_count": 14,
      "outputs": [
        {
          "output_type": "execute_result",
          "data": {
            "text/plain": [
              "Text(0,0.5,u'A4')"
            ]
          },
          "metadata": {
            "tags": []
          },
          "execution_count": 14
        },
        {
          "output_type": "display_data",
          "data": {
            "image/png": "[encoded data removed]",
            "text/plain": [
              "<matplotlib.figure.Figure at 0x7f21606657d0>"
            ]
          },
          "metadata": {
            "tags": []
          }
        }
      ]
    },
    {
      "metadata": {
        "id": "KWTeaInXMdRZ",
        "colab_type": "code",
        "colab": {
          "autoexec": {
            "startup": false,
            "wait_interval": 0
          },
          "output_extras": [
            {
              "item_id": 1
            },
            {
              "item_id": 2
            }
          ],
          "base_uri": "https://localhost:8080/",
          "height": 311
        },
        "outputId": "3ea4556c-56a2-442d-fc02-e8eef9cde555",
        "executionInfo": {
          "status": "ok",
          "timestamp": 1513644102666,
          "user_tz": 180,
          "elapsed": 1415,
          "user": {
            "displayName": "Igor Lima",
            "photoUrl": "https://lh3.googleusercontent.com/a/default-user=s128",
            "userId": "100771276283403147491"
          }
        }
      },
      "source": [
        "plt.scatter(x=dados['A2'],y=dados['A3'])\n",
        "plt.title(\"Grafico de dispersao de A2 e A3\")\n",
        "plt.xlabel(\"A2\")\n",
        "plt.ylabel(\"A3\")\n",
        "# C"
      ],
      "cell_type": "code",
      "execution_count": 19,
      "outputs": [
        {
          "output_type": "execute_result",
          "data": {
            "text/plain": [
              "Text(0,0.5,u'A3')"
            ]
          },
          "metadata": {
            "tags": []
          },
          "execution_count": 19
        },
        {
          "output_type": "display_data",
          "data": {
            "image/png": "[encoded data removed]",
            "text/plain": [
              "<matplotlib.figure.Figure at 0x7f2160315c90>"
            ]
          },
          "metadata": {
            "tags": []
          }
        }
      ]
    },
    {
      "metadata": {
        "id": "EzcpUHVcLeUK",
        "colab_type": "code",
        "colab": {
          "autoexec": {
            "startup": false,
            "wait_interval": 0
          },
          "output_extras": [
            {
              "item_id": 1
            },
            {
              "item_id": 2
            }
          ],
          "base_uri": "https://localhost:8080/",
          "height": 311
        },
        "outputId": "9d52b365-81e3-43cd-b93d-b0e44fb04b9a",
        "executionInfo": {
          "status": "ok",
          "timestamp": 1513643447805,
          "user_tz": 180,
          "elapsed": 1094,
          "user": {
            "displayName": "Igor Lima",
            "photoUrl": "https://lh3.googleusercontent.com/a/default-user=s128",
            "userId": "100771276283403147491"
          }
        }
      },
      "source": [
        "plt.scatter(x=dados['A2'],y=dados['A4'])\n",
        "plt.title(\"Grafico de dispersao de A2 e A4\")\n",
        "plt.xlabel(\"A2\")\n",
        "plt.ylabel(\"A4\")"
      ],
      "cell_type": "code",
      "execution_count": 15,
      "outputs": [
        {
          "output_type": "execute_result",
          "data": {
            "text/plain": [
              "Text(0,0.5,u'A4')"
            ]
          },
          "metadata": {
            "tags": []
          },
          "execution_count": 15
        },
        {
          "output_type": "display_data",
          "data": {
            "image/png": "[encoded data removed]",
            "text/plain": [
              "<matplotlib.figure.Figure at 0x7f216057fb90>"
            ]
          },
          "metadata": {
            "tags": []
          }
        }
      ]
    },
    {
      "metadata": {
        "id": "JyK_gjx4NqBM",
        "colab_type": "code",
        "colab": {
          "autoexec": {
            "startup": false,
            "wait_interval": 0
          },
          "output_extras": [
            {
              "item_id": 1
            },
            {
              "item_id": 2
            }
          ],
          "base_uri": "https://localhost:8080/",
          "height": 311
        },
        "outputId": "88bce4db-3b60-48c6-8098-1661d8611d1d",
        "executionInfo": {
          "status": "ok",
          "timestamp": 1513644009895,
          "user_tz": 180,
          "elapsed": 844,
          "user": {
            "displayName": "Igor Lima",
            "photoUrl": "https://lh3.googleusercontent.com/a/default-user=s128",
            "userId": "100771276283403147491"
          }
        }
      },
      "source": [
        "plt.scatter(x=dados['A3'],y=dados['A4'])\n",
        "plt.title(\"Grafico de dispersao de A3 e A4\")\n",
        "plt.xlabel(\"A3\")\n",
        "plt.ylabel(\"A4\")\n",
        "# F"
      ],
      "cell_type": "code",
      "execution_count": 17,
      "outputs": [
        {
          "output_type": "execute_result",
          "data": {
            "text/plain": [
              "Text(0,0.5,u'A4')"
            ]
          },
          "metadata": {
            "tags": []
          },
          "execution_count": 17
        },
        {
          "output_type": "display_data",
          "data": {
            "image/png": "[encoded data removed]",
            "text/plain": [
              "<matplotlib.figure.Figure at 0x7f21606c4590>"
            ]
          },
          "metadata": {
            "tags": []
          }
        }
      ]
    },
    {
      "metadata": {
        "id": "V7Ai4SnQpDj0",
        "colab_type": "text"
      },
      "source": [
        "** Questão 2)Agora, use uma ferramenta computacional para encontrar os coeficientes de correlação para cada par da\n",
        "questão 1. Compare seus resultados com aqueles obtidos por intuição.**"
      ],
      "cell_type": "markdown"
    },
    {
      "metadata": {
        "id": "ck96tCsBvLee",
        "colab_type": "code",
        "colab": {
          "autoexec": {
            "startup": false,
            "wait_interval": 0
          },
          "output_extras": [
            {
              "item_id": 1
            }
          ],
          "base_uri": "https://localhost:8080/",
          "height": 51
        },
        "outputId": "b7908f14-b8c2-4154-89d3-4d27529cc3fd",
        "executionInfo": {
          "status": "ok",
          "timestamp": 1513194790512,
          "user_tz": 180,
          "elapsed": 805,
          "user": {
            "displayName": "Igor Lima",
            "photoUrl": "https://lh3.googleusercontent.com/a/default-user=s128",
            "userId": "100771276283403147491"
          }
        }
      },
      "source": [
        "print('Questão a. (A1, A2).')\n",
        "print(\"A correlação de A1 e A2 é de: {}\".format(np.corrcoef(dados['A1'],  dados['A2'])[0][1]))"
      ],
      "cell_type": "code",
      "execution_count": 27,
      "outputs": [
        {
          "output_type": "stream",
          "text": [
            "Questão a. (A1, A2).\n",
            "A correlação de A1 e A2 é de: 0.843281167828\n"
          ],
          "name": "stdout"
        }
      ]
    },
    {
      "metadata": {
        "id": "h2kKAmkAvu6v",
        "colab_type": "code",
        "colab": {
          "autoexec": {
            "startup": false,
            "wait_interval": 0
          },
          "output_extras": [
            {
              "item_id": 1
            }
          ],
          "base_uri": "https://localhost:8080/",
          "height": 51
        },
        "outputId": "f52799f5-8498-479e-ef1c-5cf823f2d57b",
        "executionInfo": {
          "status": "ok",
          "timestamp": 1513122199303,
          "user_tz": 180,
          "elapsed": 821,
          "user": {
            "displayName": "Igor Lima",
            "photoUrl": "https://lh3.googleusercontent.com/a/default-user=s128",
            "userId": "100771276283403147491"
          }
        }
      },
      "source": [
        "print('Questão b. (A1, A3)')\n",
        "print(\"A correlação de A2 e A3 é de: {}\".format(np.corrcoef(dados['A1'],  dados['A3'])[0][1]))"
      ],
      "cell_type": "code",
      "execution_count": 81,
      "outputs": [
        {
          "output_type": "stream",
          "text": [
            "Questão b. (A1, A3)\n",
            "A correlação de A2 e A3 é de: 0.678622996942\n"
          ],
          "name": "stdout"
        }
      ]
    },
    {
      "metadata": {
        "id": "B2Y1JLtYwtQ9",
        "colab_type": "code",
        "colab": {
          "autoexec": {
            "startup": false,
            "wait_interval": 0
          },
          "output_extras": [
            {
              "item_id": 1
            }
          ],
          "base_uri": "https://localhost:8080/",
          "height": 51
        },
        "outputId": "42246ffb-19f3-470e-9063-974f07c13ee2",
        "executionInfo": {
          "status": "ok",
          "timestamp": 1513122231103,
          "user_tz": 180,
          "elapsed": 971,
          "user": {
            "displayName": "Igor Lima",
            "photoUrl": "https://lh3.googleusercontent.com/a/default-user=s128",
            "userId": "100771276283403147491"
          }
        }
      },
      "source": [
        "print('Questão c. (A1, A4)')\n",
        "print(\"A correlação de A3 e A4 é de: {}\".format(np.corrcoef(dados['A1'],  dados['A4'])[0][1]))"
      ],
      "cell_type": "code",
      "execution_count": 86,
      "outputs": [
        {
          "output_type": "stream",
          "text": [
            "Questão c. (A1, A4)\n",
            "A correlação de A3 e A4 é de: 0.440295651292\n"
          ],
          "name": "stdout"
        }
      ]
    },
    {
      "metadata": {
        "id": "90bprvHZw3UM",
        "colab_type": "code",
        "colab": {
          "autoexec": {
            "startup": false,
            "wait_interval": 0
          },
          "output_extras": [
            {
              "item_id": 1
            }
          ],
          "base_uri": "https://localhost:8080/",
          "height": 51
        },
        "outputId": "a3cd13b5-95c9-47a4-aced-19624b49cf74",
        "executionInfo": {
          "status": "ok",
          "timestamp": 1513122228778,
          "user_tz": 180,
          "elapsed": 1180,
          "user": {
            "displayName": "Igor Lima",
            "photoUrl": "https://lh3.googleusercontent.com/a/default-user=s128",
            "userId": "100771276283403147491"
          }
        }
      },
      "source": [
        "print('Questão d. (A2, A3)')\n",
        "print(\"A correlação de A2 e A3 é de: {}\".format(np.corrcoef(dados['A2'],  dados['A3'])[0][1]))"
      ],
      "cell_type": "code",
      "execution_count": 85,
      "outputs": [
        {
          "output_type": "stream",
          "text": [
            "Questão d. (A2, A3)\n",
            "A correlação de A2 e A3 é de: 0.639840680309\n"
          ],
          "name": "stdout"
        }
      ]
    },
    {
      "metadata": {
        "id": "A4ScRPB2xf33",
        "colab_type": "code",
        "colab": {
          "autoexec": {
            "startup": false,
            "wait_interval": 0
          },
          "output_extras": [
            {
              "item_id": 1
            }
          ],
          "base_uri": "https://localhost:8080/",
          "height": 51
        },
        "outputId": "bf4e1ac8-e62f-4615-b52d-ab684f613be2",
        "executionInfo": {
          "status": "ok",
          "timestamp": 1513122225692,
          "user_tz": 180,
          "elapsed": 848,
          "user": {
            "displayName": "Igor Lima",
            "photoUrl": "https://lh3.googleusercontent.com/a/default-user=s128",
            "userId": "100771276283403147491"
          }
        }
      },
      "source": [
        "print('Questão e. (A2, A4)')\n",
        "print(\"A correlação de A2 e A4 é de: {}\".format(np.corrcoef(dados['A2'],  dados['A4'])[0][1]))"
      ],
      "cell_type": "code",
      "execution_count": 84,
      "outputs": [
        {
          "output_type": "stream",
          "text": [
            "Questão e. (A2, A4)\n",
            "A correlação de A2 e A4 é de: 0.68636430153\n"
          ],
          "name": "stdout"
        }
      ]
    },
    {
      "metadata": {
        "id": "pME0aWvFxzT5",
        "colab_type": "code",
        "colab": {
          "autoexec": {
            "startup": false,
            "wait_interval": 0
          },
          "output_extras": [
            {
              "item_id": 1
            }
          ],
          "base_uri": "https://localhost:8080/",
          "height": 51
        },
        "outputId": "095a0be7-f072-4083-f0a8-ab50c71582b4",
        "executionInfo": {
          "status": "ok",
          "timestamp": 1513644275556,
          "user_tz": 180,
          "elapsed": 997,
          "user": {
            "displayName": "Igor Lima",
            "photoUrl": "https://lh3.googleusercontent.com/a/default-user=s128",
            "userId": "100771276283403147491"
          }
        }
      },
      "source": [
        "print('Questão f. (A3, A4)')\n",
        "print(\"A correlação de A3 e A4 é de: {}\".format(np.corrcoef(dados['A3'],  dados['A4'])[0][1]))"
      ],
      "cell_type": "code",
      "execution_count": 20,
      "outputs": [
        {
          "output_type": "stream",
          "text": [
            "Questão f. (A3, A4)\n",
            "A correlação de A3 e A4 é de: 0.675920642055\n"
          ],
          "name": "stdout"
        }
      ]
    },
    {
      "metadata": {
        "id": "YHHHYX92HbyL",
        "colab_type": "text"
      },
      "source": [
        "**Questão 4)Use uma ferramenta computacional para encontrar a linha de regressão para cada par da questão1.**"
      ],
      "cell_type": "markdown"
    },
    {
      "metadata": {
        "id": "g8AGCSujGPYO",
        "colab_type": "code",
        "colab": {
          "autoexec": {
            "startup": false,
            "wait_interval": 0
          }
        }
      },
      "source": [
        "def gerar_linha_regressao(x, y):\n",
        "  fit = np.polyfit(dados[x],dados[y],1)\n",
        "  fit_fn = np.poly1d(fit) \n",
        "  plt.title(\"Linha de Regressao de {} para {}\".format(x,y))\n",
        "  plt.plot(dados[x],dados[y], 'yo', dados[x], fit_fn(dados[x]))"
      ],
      "cell_type": "code",
      "execution_count": 0,
      "outputs": []
    },
    {
      "metadata": {
        "id": "Mc2-Cy92GWyH",
        "colab_type": "code",
        "colab": {
          "autoexec": {
            "startup": false,
            "wait_interval": 0
          },
          "output_extras": [
            {
              "item_id": 1
            },
            {
              "item_id": 2
            }
          ],
          "base_uri": "https://localhost:8080/",
          "height": 297
        },
        "outputId": "c8dbd755-4f71-4951-f793-7cbd00365f09",
        "executionInfo": {
          "status": "ok",
          "timestamp": 1513122367168,
          "user_tz": 180,
          "elapsed": 1305,
          "user": {
            "displayName": "Igor Lima",
            "photoUrl": "https://lh3.googleusercontent.com/a/default-user=s128",
            "userId": "100771276283403147491"
          }
        }
      },
      "source": [
        "print(\"a. Gerando Linha de Regressão para A1 e A2\")\n",
        "gerar_linha_regressao('A1', 'A2')"
      ],
      "cell_type": "code",
      "execution_count": 88,
      "outputs": [
        {
          "output_type": "stream",
          "text": [
            "a. Gerando Linha de Regressão para A1 e A2\n"
          ],
          "name": "stdout"
        },
        {
          "output_type": "display_data",
          "data": {
            "image/png": "[encoded data removed]",
            "text/plain": [
              "<matplotlib.figure.Figure at 0x7f8ce41ff190>"
            ]
          },
          "metadata": {
            "tags": []
          }
        }
      ]
    },
    {
      "metadata": {
        "id": "6Fh9xYSIGofD",
        "colab_type": "code",
        "colab": {
          "autoexec": {
            "startup": false,
            "wait_interval": 0
          },
          "output_extras": [
            {
              "item_id": 1
            },
            {
              "item_id": 2
            }
          ],
          "base_uri": "https://localhost:8080/",
          "height": 297
        },
        "outputId": "edbafe97-94d9-4160-f2b4-2ac70ca09193",
        "executionInfo": {
          "status": "ok",
          "timestamp": 1513122373002,
          "user_tz": 180,
          "elapsed": 1188,
          "user": {
            "displayName": "Igor Lima",
            "photoUrl": "https://lh3.googleusercontent.com/a/default-user=s128",
            "userId": "100771276283403147491"
          }
        }
      },
      "source": [
        "print(\"b. Gerando Linha de Regressão para A1 e A3\")\n",
        "gerar_linha_regressao('A1', 'A3')"
      ],
      "cell_type": "code",
      "execution_count": 89,
      "outputs": [
        {
          "output_type": "stream",
          "text": [
            "b. Gerando Linha de Regressão para A1 e A3\n"
          ],
          "name": "stdout"
        },
        {
          "output_type": "display_data",
          "data": {
            "image/png": "[encoded data removed]",
            "text/plain": [
              "<matplotlib.figure.Figure at 0x7f8ce404fd10>"
            ]
          },
          "metadata": {
            "tags": []
          }
        }
      ]
    },
    {
      "metadata": {
        "id": "JfPfjaU6HUu-",
        "colab_type": "code",
        "colab": {
          "autoexec": {
            "startup": false,
            "wait_interval": 0
          },
          "output_extras": [
            {
              "item_id": 1
            },
            {
              "item_id": 2
            }
          ],
          "base_uri": "https://localhost:8080/",
          "height": 297
        },
        "outputId": "8698edfb-57fc-473f-8604-9201e786f28d",
        "executionInfo": {
          "status": "ok",
          "timestamp": 1513122394461,
          "user_tz": 180,
          "elapsed": 1167,
          "user": {
            "displayName": "Igor Lima",
            "photoUrl": "https://lh3.googleusercontent.com/a/default-user=s128",
            "userId": "100771276283403147491"
          }
        }
      },
      "source": [
        "print(\"c. Gerando Linha de Regressão para A1 e A4\")\n",
        "gerar_linha_regressao('A1', 'A4')"
      ],
      "cell_type": "code",
      "execution_count": 90,
      "outputs": [
        {
          "output_type": "stream",
          "text": [
            "c. Gerando Linha de Regressão para A1 e A4\n"
          ],
          "name": "stdout"
        },
        {
          "output_type": "display_data",
          "data": {
            "image/png": "[encoded data removed]",
            "text/plain": [
              "<matplotlib.figure.Figure at 0x7f8ce4085550>"
            ]
          },
          "metadata": {
            "tags": []
          }
        }
      ]
    },
    {
      "metadata": {
        "id": "ITMdYKbfHpeM",
        "colab_type": "code",
        "colab": {
          "autoexec": {
            "startup": false,
            "wait_interval": 0
          },
          "output_extras": [
            {
              "item_id": 1
            },
            {
              "item_id": 2
            }
          ],
          "base_uri": "https://localhost:8080/",
          "height": 297
        },
        "outputId": "7bf7fd6c-fa09-43e3-e46d-4a9549987eb6",
        "executionInfo": {
          "status": "ok",
          "timestamp": 1513122427171,
          "user_tz": 180,
          "elapsed": 1681,
          "user": {
            "displayName": "Igor Lima",
            "photoUrl": "https://lh3.googleusercontent.com/a/default-user=s128",
            "userId": "100771276283403147491"
          }
        }
      },
      "source": [
        "print(\"d. Gerando Linha de Regressão para A2 e A3\")\n",
        "gerar_linha_regressao('A2', 'A3')"
      ],
      "cell_type": "code",
      "execution_count": 91,
      "outputs": [
        {
          "output_type": "stream",
          "text": [
            "d. Gerando Linha de Regressão para A2 e A3\n"
          ],
          "name": "stdout"
        },
        {
          "output_type": "display_data",
          "data": {
            "image/png": "[encoded data removed]",
            "text/plain": [
              "<matplotlib.figure.Figure at 0x7f8ce3ff1490>"
            ]
          },
          "metadata": {
            "tags": []
          }
        }
      ]
    },
    {
      "metadata": {
        "id": "2U9pNAySHpqy",
        "colab_type": "code",
        "colab": {
          "autoexec": {
            "startup": false,
            "wait_interval": 0
          },
          "output_extras": [
            {
              "item_id": 1
            },
            {
              "item_id": 2
            }
          ],
          "base_uri": "https://localhost:8080/",
          "height": 297
        },
        "outputId": "b747d393-26b3-4e0a-8299-f46948ac2b21",
        "executionInfo": {
          "status": "ok",
          "timestamp": 1513122443128,
          "user_tz": 180,
          "elapsed": 899,
          "user": {
            "displayName": "Igor Lima",
            "photoUrl": "https://lh3.googleusercontent.com/a/default-user=s128",
            "userId": "100771276283403147491"
          }
        }
      },
      "source": [
        "print(\"e. Gerando Linha de Regressão para A2 e A4\")\n",
        "gerar_linha_regressao('A2', 'A4')"
      ],
      "cell_type": "code",
      "execution_count": 92,
      "outputs": [
        {
          "output_type": "stream",
          "text": [
            "e. Gerando Linha de Regressão para A2 e A4\n"
          ],
          "name": "stdout"
        },
        {
          "output_type": "display_data",
          "data": {
            "image/png": "[encoded data removed]",
            "text/plain": [
              "<matplotlib.figure.Figure at 0x7f8ce3f75c90>"
            ]
          },
          "metadata": {
            "tags": []
          }
        }
      ]
    },
    {
      "metadata": {
        "id": "OyxVQ4QTHp1X",
        "colab_type": "code",
        "colab": {
          "autoexec": {
            "startup": false,
            "wait_interval": 0
          },
          "output_extras": [
            {
              "item_id": 1
            },
            {
              "item_id": 2
            }
          ],
          "base_uri": "https://localhost:8080/",
          "height": 297
        },
        "outputId": "bc078549-8a9d-4974-ca92-d9c7dc535310",
        "executionInfo": {
          "status": "ok",
          "timestamp": 1513122459395,
          "user_tz": 180,
          "elapsed": 872,
          "user": {
            "displayName": "Igor Lima",
            "photoUrl": "https://lh3.googleusercontent.com/a/default-user=s128",
            "userId": "100771276283403147491"
          }
        }
      },
      "source": [
        "print(\"f. Gerando Linha de Regressão para A3 e A4\")\n",
        "gerar_linha_regressao('A3', 'A4')"
      ],
      "cell_type": "code",
      "execution_count": 93,
      "outputs": [
        {
          "output_type": "stream",
          "text": [
            "f. Gerando Linha de Regressão para A3 e A4\n"
          ],
          "name": "stdout"
        },
        {
          "output_type": "display_data",
          "data": {
            "image/png": "[encoded data removed]",
            "text/plain": [
              "<matplotlib.figure.Figure at 0x7f8ce3ef5110>"
            ]
          },
          "metadata": {
            "tags": []
          }
        }
      ]
    }
  ]
}